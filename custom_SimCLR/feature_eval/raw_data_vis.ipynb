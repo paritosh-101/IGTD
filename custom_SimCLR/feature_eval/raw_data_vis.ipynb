{
 "cells": [
  {
   "cell_type": "code",
   "execution_count": 1,
   "metadata": {},
   "outputs": [],
   "source": [
    "import pandas as pd\n",
    "from sklearn.utils import resample\n",
    "\n",
    "# Load the original dataset from the CSV file\n",
    "data = pd.read_csv('/home/paritosh/workspace/TabularDeath/synthetic_easy.csv')\n",
    "\n",
    "# Assuming 'target' is the column name for labels\n",
    "X = data.drop('label', axis=1)\n",
    "y = data['label']\n",
    "\n",
    "# Determine the number of samples per class\n",
    "samples_per_class = 1000 // 4  # Integer division to ensure equal number of samples per class\n",
    "\n",
    "sampled_dfs = []\n",
    "\n",
    "# Iterate over each unique class label\n",
    "for label in y.unique():\n",
    "    # Get the data points belonging to the current class\n",
    "    class_data = data[y == label]\n",
    "    \n",
    "    # Sample the desired number of data points from the current class with replacement\n",
    "    sampled_class_data = resample(class_data, n_samples=samples_per_class, replace=True, random_state=42)\n",
    "    \n",
    "    # Append the sampled data points to the sampled_data DataFrame\n",
    "    sampled_dfs.append(sampled_class_data)\n",
    "\n",
    "sampled_data = pd.concat(sampled_dfs, ignore_index=True)\n",
    "\n",
    "# Separate the features (X) and labels (y) from the sampled data\n",
    "sampled_X = sampled_data.drop('label', axis=1)\n",
    "sampled_y = sampled_data['label']"
   ]
  },
  {
   "cell_type": "code",
   "execution_count": 2,
   "metadata": {},
   "outputs": [
    {
     "name": "stdout",
     "output_type": "stream",
     "text": [
      "[t-SNE] Computing 91 nearest neighbors...\n",
      "[t-SNE] Indexed 1000 samples in 0.000s...\n",
      "[t-SNE] Computed neighbors for 1000 samples in 0.036s...\n",
      "[t-SNE] Computed conditional probabilities for sample 1000 / 1000\n",
      "[t-SNE] Mean sigma: 4.686384\n",
      "[t-SNE] KL divergence after 250 iterations with early exaggeration: 57.400818\n",
      "[t-SNE] KL divergence after 1000 iterations: 1.156478\n"
     ]
    },
    {
     "name": "stderr",
     "output_type": "stream",
     "text": [
      "VAT Processing: 100%|██████████| 997/997 [00:04<00:00, 242.78it/s]\n",
      "Final loop: 100%|██████████| 1000/1000 [00:00<00:00, 6442863.29it/s]\n",
      "iVAT Processing: 100%|██████████| 999/999 [00:00<00:00, 87672.04it/s]\n"
     ]
    },
    {
     "data": {
      "image/png": "[encoded data removed]",
      "text/plain": [
       "<Figure size 640x480 with 1 Axes>"
      ]
     },
     "metadata": {},
     "output_type": "display_data"
    }
   ],
   "source": [
    "from sklearn.manifold import TSNE\n",
    "from scipy.spatial.distance import cdist\n",
    "from VAT_library.iVAT import iVAT\n",
    "import matplotlib.pyplot as plt\n",
    "\n",
    "tsne = TSNE(n_components=2, verbose=1)\n",
    "tsne_embeddings = tsne.fit_transform(sampled_X)\n",
    "\n",
    "pairwise_dist = cdist(tsne_embeddings, tsne_embeddings)\n",
    "\n",
    "RiV, RV, reordering_mat = iVAT(pairwise_dist)\n",
    "\n",
    "plt.imshow(RiV, cmap='gray')\n",
    "save_path = \"/home/paritosh/workspace/IK_contrastive_dataset/synthetic_easy/synthetic_easy_raw_2D.png\"\n",
    "plt.savefig(save_path)"
   ]
  }
 ],
 "metadata": {
  "kernelspec": {
   "display_name": "torch",
   "language": "python",
   "name": "python3"
  },
  "language_info": {
   "codemirror_mode": {
    "name": "ipython",
    "version": 3
   },
   "file_extension": ".py",
   "mimetype": "text/x-python",
   "name": "python",
   "nbconvert_exporter": "python",
   "pygments_lexer": "ipython3",
   "version": "3.11.5"
  }
 },
 "nbformat": 4,
 "nbformat_minor": 2
}
