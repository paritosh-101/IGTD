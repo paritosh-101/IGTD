{
  "cells": [
    {
      "cell_type": "code",
      "execution_count": 1,
      "metadata": {
        "id": "YUemQib7ZE4D"
      },
      "outputs": [],
      "source": [
        "import torch\n",
        "import sys\n",
        "import numpy as np\n",
        "import os\n",
        "import yaml\n",
        "import matplotlib.pyplot as plt\n",
        "import torchvision\n",
        "from torch.utils.data import DataLoader\n",
        "import torchvision.transforms as transforms\n",
        "from torchvision import datasets"
      ]
    },
    {
      "cell_type": "code",
      "execution_count": 2,
      "metadata": {
        "colab": {
          "base_uri": "https://localhost:8080/"
        },
        "id": "lDfbL3w_Z0Od",
        "outputId": "7532966e-1c4a-4641-c928-4cda14c53389"
      },
      "outputs": [
        {
          "name": "stdout",
          "output_type": "stream",
          "text": [
            "Using device: cuda\n"
          ]
        }
      ],
      "source": [
        "device = 'cuda' if torch.cuda.is_available() else 'cpu'\n",
        "print(\"Using device:\", device)"
      ]
    },
    {
      "cell_type": "code",
      "execution_count": 3,
      "metadata": {},
      "outputs": [],
      "source": [
        "from torchvision import transforms\n",
        "from torch.utils.data import DataLoader, WeightedRandomSampler\n",
        "\n",
        "def get_balanced_sampler(dataset):\n",
        "    # Count the number of images per class\n",
        "    class_counts = [0] * 4  # Assuming 4 classes\n",
        "    for _, label in dataset:\n",
        "        class_counts[label] += 1\n",
        "\n",
        "    # Weight for each sample\n",
        "    weights = [1.0 / class_counts[label] for _, label in dataset]\n",
        "    sampler = WeightedRandomSampler(weights, num_samples=4000, replacement=True)\n",
        "\n",
        "    return sampler\n",
        "\n",
        "def get_balanced_data_loader(data_dir, batch_size=256, num_workers=0):\n",
        "    # Define transformations\n",
        "    transform = transforms.Compose([\n",
        "        transforms.Resize((224, 224)),\n",
        "        transforms.Grayscale(num_output_channels=1),\n",
        "        transforms.ToTensor()\n",
        "    ])\n",
        "\n",
        "    # Load the dataset with transformations\n",
        "    train_dataset = datasets.ImageFolder(root=data_dir, transform=transform)\n",
        "\n",
        "    # Create a balanced sampler\n",
        "    sampler = get_balanced_sampler(train_dataset)\n",
        "\n",
        "    # Create the DataLoader with the sampler\n",
        "    train_loader = DataLoader(train_dataset, batch_size=batch_size, sampler=sampler, num_workers=num_workers)\n",
        "\n",
        "    return train_loader\n",
        "\n",
        "# Call the function with your dataset directory\n",
        "train_loader = get_balanced_data_loader('/home/paritosh/workspace/IGTD_data/Results/Test_1', batch_size=128, num_workers=4)"
      ]
    },
    {
      "cell_type": "code",
      "execution_count": 4,
      "metadata": {
        "id": "4AIfgq41GuTT"
      },
      "outputs": [],
      "source": [
        "# # checkpoint = torch.load('checkpoint_0040.pth.tar', map_location=device)\n",
        "# checkpoint = torch.load('/home/paritosh/workspace/IGTD/runs/checkpoint_resnet18_0400.pth.tar', map_location=device)\n",
        "# state_dict = checkpoint['state_dict']\n",
        "\n",
        "# for k in list(state_dict.keys()):\n",
        "\n",
        "#   if k.startswith('backbone.'):\n",
        "#     if k.startswith('backbone') and not k.startswith('backbone.fc'):\n",
        "#       # remove prefix\n",
        "#       state_dict[k[len(\"backbone.\"):]] = state_dict[k]\n",
        "#   del state_dict[k]"
      ]
    },
    {
      "cell_type": "code",
      "execution_count": 5,
      "metadata": {},
      "outputs": [],
      "source": [
        "# Load the pretrained checkpoint\n",
        "checkpoint = torch.load('/home/paritosh/workspace/IGTD/runs/checkpoint_resnet18_0500.pth.tar', map_location=device)\n",
        "state_dict = checkpoint['state_dict']\n",
        "\n",
        "# Create a new state_dict with modified keys\n",
        "modified_state_dict = {}\n",
        "for key, value in state_dict.items():\n",
        "    if key.startswith('module.backbone.'):\n",
        "        modified_key = key[len('module.backbone.'):]  # Remove the 'module.backbone.' prefix\n",
        "        modified_state_dict[modified_key] = value\n",
        "    elif key.startswith('module.'):\n",
        "        modified_key = key[len('module.'):]  # Remove the 'module.' prefix\n",
        "        modified_state_dict[modified_key] = value\n",
        "\n",
        "# # Load the ResNet18 model\n",
        "# model = torchvision.models.resnet18(pretrained=False, num_classes=4).to(device)\n",
        "\n",
        "# # Load the modified state_dict into the model\n",
        "# model.load_state_dict(modified_state_dict, strict=False)"
      ]
    },
    {
      "cell_type": "code",
      "execution_count": 6,
      "metadata": {
        "id": "VVjA83PPJYWl"
      },
      "outputs": [
        {
          "name": "stderr",
          "output_type": "stream",
          "text": [
            "/home/paritosh/anaconda3/envs/torch/lib/python3.11/site-packages/torchvision/models/_utils.py:208: UserWarning: The parameter 'pretrained' is deprecated since 0.13 and may be removed in the future, please use 'weights' instead.\n",
            "  warnings.warn(\n",
            "/home/paritosh/anaconda3/envs/torch/lib/python3.11/site-packages/torchvision/models/_utils.py:223: UserWarning: Arguments other than a weight enum or `None` for 'weights' are deprecated since 0.13 and may be removed in the future. The current behavior is equivalent to passing `weights=None`.\n",
            "  warnings.warn(msg)\n"
          ]
        }
      ],
      "source": [
        " # Load the model (assuming it's a ResNet18 trained with SimCLR)\n",
        "model = torchvision.models.resnet18(pretrained=False, num_classes=4).to(device)\n",
        "\n",
        "# Modify the first layer to accept grayscale images\n",
        "model.conv1 = torch.nn.Conv2d(1, model.conv1.out_channels, kernel_size=model.conv1.kernel_size,\n",
        "                              stride=model.conv1.stride, padding=model.conv1.padding, bias=False)\n",
        "\n",
        "# Move model to the appropriate device (GPU or CPU)\n",
        "device = torch.device(\"cuda\" if torch.cuda.is_available() else \"cpu\")\n",
        "model = model.to(device)\n",
        "\n",
        "# Load the modified state_dict into the model\n",
        "log = model.load_state_dict(modified_state_dict, strict=False)\n",
        "assert log.missing_keys == ['fc.weight', 'fc.bias']\n",
        "\n",
        "# log = model.load_state_dict(state_dict, strict=False)\n",
        "# assert log.missing_keys == ['fc.weight', 'fc.bias']"
      ]
    },
    {
      "cell_type": "code",
      "execution_count": 7,
      "metadata": {},
      "outputs": [
        {
          "name": "stdout",
          "output_type": "stream",
          "text": [
            "ResNet(\n",
            "  (conv1): Conv2d(1, 64, kernel_size=(7, 7), stride=(2, 2), padding=(3, 3), bias=False)\n",
            "  (bn1): BatchNorm2d(64, eps=1e-05, momentum=0.1, affine=True, track_running_stats=True)\n",
            "  (relu): ReLU(inplace=True)\n",
            "  (maxpool): MaxPool2d(kernel_size=3, stride=2, padding=1, dilation=1, ceil_mode=False)\n",
            "  (layer1): Sequential(\n",
            "    (0): BasicBlock(\n",
            "      (conv1): Conv2d(64, 64, kernel_size=(3, 3), stride=(1, 1), padding=(1, 1), bias=False)\n",
            "      (bn1): BatchNorm2d(64, eps=1e-05, momentum=0.1, affine=True, track_running_stats=True)\n",
            "      (relu): ReLU(inplace=True)\n",
            "      (conv2): Conv2d(64, 64, kernel_size=(3, 3), stride=(1, 1), padding=(1, 1), bias=False)\n",
            "      (bn2): BatchNorm2d(64, eps=1e-05, momentum=0.1, affine=True, track_running_stats=True)\n",
            "    )\n",
            "    (1): BasicBlock(\n",
            "      (conv1): Conv2d(64, 64, kernel_size=(3, 3), stride=(1, 1), padding=(1, 1), bias=False)\n",
            "      (bn1): BatchNorm2d(64, eps=1e-05, momentum=0.1, affine=True, track_running_stats=True)\n",
            "      (relu): ReLU(inplace=True)\n",
            "      (conv2): Conv2d(64, 64, kernel_size=(3, 3), stride=(1, 1), padding=(1, 1), bias=False)\n",
            "      (bn2): BatchNorm2d(64, eps=1e-05, momentum=0.1, affine=True, track_running_stats=True)\n",
            "    )\n",
            "  )\n",
            "  (layer2): Sequential(\n",
            "    (0): BasicBlock(\n",
            "      (conv1): Conv2d(64, 128, kernel_size=(3, 3), stride=(2, 2), padding=(1, 1), bias=False)\n",
            "      (bn1): BatchNorm2d(128, eps=1e-05, momentum=0.1, affine=True, track_running_stats=True)\n",
            "      (relu): ReLU(inplace=True)\n",
            "      (conv2): Conv2d(128, 128, kernel_size=(3, 3), stride=(1, 1), padding=(1, 1), bias=False)\n",
            "      (bn2): BatchNorm2d(128, eps=1e-05, momentum=0.1, affine=True, track_running_stats=True)\n",
            "      (downsample): Sequential(\n",
            "        (0): Conv2d(64, 128, kernel_size=(1, 1), stride=(2, 2), bias=False)\n",
            "        (1): BatchNorm2d(128, eps=1e-05, momentum=0.1, affine=True, track_running_stats=True)\n",
            "      )\n",
            "    )\n",
            "    (1): BasicBlock(\n",
            "      (conv1): Conv2d(128, 128, kernel_size=(3, 3), stride=(1, 1), padding=(1, 1), bias=False)\n",
            "      (bn1): BatchNorm2d(128, eps=1e-05, momentum=0.1, affine=True, track_running_stats=True)\n",
            "      (relu): ReLU(inplace=True)\n",
            "      (conv2): Conv2d(128, 128, kernel_size=(3, 3), stride=(1, 1), padding=(1, 1), bias=False)\n",
            "      (bn2): BatchNorm2d(128, eps=1e-05, momentum=0.1, affine=True, track_running_stats=True)\n",
            "    )\n",
            "  )\n",
            "  (layer3): Sequential(\n",
            "    (0): BasicBlock(\n",
            "      (conv1): Conv2d(128, 256, kernel_size=(3, 3), stride=(2, 2), padding=(1, 1), bias=False)\n",
            "      (bn1): BatchNorm2d(256, eps=1e-05, momentum=0.1, affine=True, track_running_stats=True)\n",
            "      (relu): ReLU(inplace=True)\n",
            "      (conv2): Conv2d(256, 256, kernel_size=(3, 3), stride=(1, 1), padding=(1, 1), bias=False)\n",
            "      (bn2): BatchNorm2d(256, eps=1e-05, momentum=0.1, affine=True, track_running_stats=True)\n",
            "      (downsample): Sequential(\n",
            "        (0): Conv2d(128, 256, kernel_size=(1, 1), stride=(2, 2), bias=False)\n",
            "        (1): BatchNorm2d(256, eps=1e-05, momentum=0.1, affine=True, track_running_stats=True)\n",
            "      )\n",
            "    )\n",
            "    (1): BasicBlock(\n",
            "      (conv1): Conv2d(256, 256, kernel_size=(3, 3), stride=(1, 1), padding=(1, 1), bias=False)\n",
            "      (bn1): BatchNorm2d(256, eps=1e-05, momentum=0.1, affine=True, track_running_stats=True)\n",
            "      (relu): ReLU(inplace=True)\n",
            "      (conv2): Conv2d(256, 256, kernel_size=(3, 3), stride=(1, 1), padding=(1, 1), bias=False)\n",
            "      (bn2): BatchNorm2d(256, eps=1e-05, momentum=0.1, affine=True, track_running_stats=True)\n",
            "    )\n",
            "  )\n",
            "  (layer4): Sequential(\n",
            "    (0): BasicBlock(\n",
            "      (conv1): Conv2d(256, 512, kernel_size=(3, 3), stride=(2, 2), padding=(1, 1), bias=False)\n",
            "      (bn1): BatchNorm2d(512, eps=1e-05, momentum=0.1, affine=True, track_running_stats=True)\n",
            "      (relu): ReLU(inplace=True)\n",
            "      (conv2): Conv2d(512, 512, kernel_size=(3, 3), stride=(1, 1), padding=(1, 1), bias=False)\n",
            "      (bn2): BatchNorm2d(512, eps=1e-05, momentum=0.1, affine=True, track_running_stats=True)\n",
            "      (downsample): Sequential(\n",
            "        (0): Conv2d(256, 512, kernel_size=(1, 1), stride=(2, 2), bias=False)\n",
            "        (1): BatchNorm2d(512, eps=1e-05, momentum=0.1, affine=True, track_running_stats=True)\n",
            "      )\n",
            "    )\n",
            "    (1): BasicBlock(\n",
            "      (conv1): Conv2d(512, 512, kernel_size=(3, 3), stride=(1, 1), padding=(1, 1), bias=False)\n",
            "      (bn1): BatchNorm2d(512, eps=1e-05, momentum=0.1, affine=True, track_running_stats=True)\n",
            "      (relu): ReLU(inplace=True)\n",
            "      (conv2): Conv2d(512, 512, kernel_size=(3, 3), stride=(1, 1), padding=(1, 1), bias=False)\n",
            "      (bn2): BatchNorm2d(512, eps=1e-05, momentum=0.1, affine=True, track_running_stats=True)\n",
            "    )\n",
            "  )\n",
            "  (avgpool): AdaptiveAvgPool2d(output_size=(1, 1))\n",
            "  (fc): Linear(in_features=512, out_features=4, bias=True)\n",
            ")\n"
          ]
        }
      ],
      "source": [
        "print(model)"
      ]
    },
    {
      "cell_type": "code",
      "execution_count": 8,
      "metadata": {},
      "outputs": [],
      "source": [
        "# Modify the fully connected layer\n",
        "model.fc = torch.nn.Identity()\n",
        "\n",
        "# Now the model outputs the 512-dimensional embeddings from the AdaptiveAvgPool2d layer"
      ]
    },
    {
      "cell_type": "code",
      "execution_count": 9,
      "metadata": {
        "id": "dtYqHZirMNZk"
      },
      "outputs": [],
      "source": [
        "# Set model to evaluation mode\n",
        "model.eval()\n",
        "\n",
        "# Disable gradient computation\n",
        "with torch.no_grad():\n",
        "    embeddings = []\n",
        "    labels = []\n",
        "\n",
        "    for images, batch_labels in train_loader:\n",
        "        # Move images to the same device as the model\n",
        "        images = images.to(device)\n",
        "\n",
        "        # Forward pass to get embeddings\n",
        "        batch_embeddings = model(images)\n",
        "\n",
        "        # Store embeddings and labels\n",
        "        embeddings.append(batch_embeddings.cpu().numpy())\n",
        "        labels.append(batch_labels.numpy())\n",
        "\n",
        "# Concatenate all collected embeddings and labels\n",
        "embeddings = np.concatenate(embeddings, axis=0)\n",
        "labels = np.concatenate(labels, axis=0)"
      ]
    },
    {
      "cell_type": "code",
      "execution_count": 10,
      "metadata": {},
      "outputs": [
        {
          "name": "stdout",
          "output_type": "stream",
          "text": [
            "(4000, 512)\n",
            "(4000,)\n"
          ]
        }
      ],
      "source": [
        "print(embeddings.shape)\n",
        "print(labels.shape)"
      ]
    },
    {
      "cell_type": "code",
      "execution_count": 11,
      "metadata": {},
      "outputs": [
        {
          "name": "stdout",
          "output_type": "stream",
          "text": [
            "[t-SNE] Computing 91 nearest neighbors...\n",
            "[t-SNE] Indexed 4000 samples in 0.001s...\n",
            "[t-SNE] Computed neighbors for 4000 samples in 0.205s...\n",
            "[t-SNE] Computed conditional probabilities for sample 1000 / 4000\n",
            "[t-SNE] Computed conditional probabilities for sample 2000 / 4000\n",
            "[t-SNE] Computed conditional probabilities for sample 3000 / 4000\n",
            "[t-SNE] Computed conditional probabilities for sample 4000 / 4000\n",
            "[t-SNE] Mean sigma: 0.744559\n",
            "[t-SNE] KL divergence after 50 iterations with early exaggeration: 86.155838\n",
            "[t-SNE] KL divergence after 1000 iterations: 3.286732\n"
          ]
        }
      ],
      "source": [
        "# project embeddings into 2D space\n",
        "# from sklearn.decomposition import PCA\n",
        "from sklearn.manifold import TSNE\n",
        "\n",
        "# pca = PCA(n_components=2)\n",
        "# pca.fit(embeddings)\n",
        "# pca_embeddings = pca.transform(embeddings)\n",
        "\n",
        "tsne = TSNE(n_components=2, verbose=1)\n",
        "tsne_embeddings = tsne.fit_transform(embeddings)"
      ]
    },
    {
      "cell_type": "code",
      "execution_count": 12,
      "metadata": {},
      "outputs": [
        {
          "name": "stderr",
          "output_type": "stream",
          "text": [
            "VAT Processing:   6%|▋         | 254/3997 [00:04<01:04, 58.34it/s]"
          ]
        },
        {
          "name": "stderr",
          "output_type": "stream",
          "text": [
            "VAT Processing: 100%|██████████| 3997/3997 [01:39<00:00, 40.24it/s] \n",
            "Final loop: 100%|██████████| 4000/4000 [00:00<00:00, 6792395.14it/s]\n",
            "iVAT Processing: 100%|██████████| 3999/3999 [00:00<00:00, 28830.67it/s]\n"
          ]
        },
        {
          "data": {
            "image/png": "[encoded data removed]",
            "text/plain": [
              "<Figure size 640x480 with 1 Axes>"
            ]
          },
          "metadata": {},
          "output_type": "display_data"
        }
      ],
      "source": [
        "from VAT_library.iVAT import iVAT\n",
        "from scipy.spatial.distance import cdist\n",
        "\n",
        "# pairwise_dist = cdist(embeddings, embeddings)\n",
        "# pairwise_dist = cdist(pca_embeddings, pca_embeddings)\n",
        "pairwise_dist = cdist(tsne_embeddings, tsne_embeddings)\n",
        "\n",
        "RiV, RV, reordering_mat = iVAT(pairwise_dist)\n",
        "\n",
        "plt.imshow(RiV, cmap='gray')\n",
        "save_path = \"/home/paritosh/workspace/IGTD/runs/synthetic_easy_2D.png\"  # Specify the path and file name here\n",
        "plt.savefig(save_path)"
      ]
    },
    {
      "cell_type": "code",
      "execution_count": 18,
      "metadata": {},
      "outputs": [],
      "source": [
        "# import pandas as pd\n",
        "# from sklearn.utils import resample\n",
        "\n",
        "# # Load the original dataset from the CSV file\n",
        "# data = pd.read_csv('/home/paritosh/workspace/TabularDeath/synthetic_hard_data.csv')\n",
        "\n",
        "# # Assuming 'target' is the column name for labels\n",
        "# X = data.drop('label', axis=1)\n",
        "# y = data['label']\n",
        "\n",
        "# # Determine the number of samples per class\n",
        "# samples_per_class = 14000 // 7  # Integer division to ensure equal number of samples per class\n",
        "\n",
        "# sampled_dfs = []\n",
        "\n",
        "# # Iterate over each unique class label\n",
        "# for label in y.unique():\n",
        "#     # Get the data points belonging to the current class\n",
        "#     class_data = data[y == label]\n",
        "    \n",
        "#     # Sample the desired number of data points from the current class with replacement\n",
        "#     sampled_class_data = resample(class_data, n_samples=samples_per_class, replace=True, random_state=42)\n",
        "    \n",
        "#     # Append the sampled data points to the sampled_data DataFrame\n",
        "#     sampled_dfs.append(sampled_class_data)\n",
        "\n",
        "# sampled_data = pd.concat(sampled_dfs, ignore_index=True)\n",
        "\n",
        "# # Separate the features (X) and labels (y) from the sampled data\n",
        "# sampled_X = sampled_data.drop('label', axis=1)\n",
        "# sampled_y = sampled_data['label']"
      ]
    },
    {
      "cell_type": "code",
      "execution_count": 19,
      "metadata": {},
      "outputs": [],
      "source": [
        "# print(sampled_X.shape)\n",
        "\n",
        "# pairwise_dist = cdist(sampled_X, sampled_X)\n",
        "\n",
        "# RiV, RV, reordering_mat = iVAT(pairwise_dist)\n",
        "\n",
        "# plt.imshow(RiV, cmap='gray')\n",
        "# save_path = \"/home/paritosh/workspace/IK_contrastive_dataset/synthetic_hard/synthetic_hard_raw.png\"\n",
        "# plt.savefig(save_path)"
      ]
    },
    {
      "cell_type": "code",
      "execution_count": 20,
      "metadata": {},
      "outputs": [],
      "source": [
        "# tsne = TSNE(n_components=2, verbose=1)\n",
        "# tsne_embeddings = tsne.fit_transform(sampled_X)\n",
        "\n",
        "# pairwise_dist = cdist(tsne_embeddings, tsne_embeddings)\n",
        "\n",
        "# RiV, RV, reordering_mat = iVAT(pairwise_dist)\n",
        "\n",
        "# plt.imshow(RiV, cmap='gray')\n",
        "# save_path = \"/home/paritosh/workspace/IK_contrastive_dataset/synthetic_hard/synthetic_hard_raw_2D.png\"\n",
        "# plt.savefig(save_path)"
      ]
    }
  ],
  "metadata": {
    "accelerator": "GPU",
    "colab": {
      "include_colab_link": true,
      "name": "Copy of mini-batch-logistic-regression-evaluator.ipynb",
      "provenance": []
    },
    "kernelspec": {
      "display_name": "torch",
      "language": "python",
      "name": "python3"
    },
    "language_info": {
      "codemirror_mode": {
        "name": "ipython",
        "version": 3
      },
      "file_extension": ".py",
      "mimetype": "text/x-python",
      "name": "python",
      "nbconvert_exporter": "python",
      "pygments_lexer": "ipython3",
      "version": "3.11.5"
    },
    "widgets": {
      "application/vnd.jupyter.widget-state+json": {
        "149b9ce8fb68473a837a77431c12281a": {
          "model_module": "@jupyter-widgets/controls",
          "model_name": "HBoxModel",
          "state": {
            "_dom_classes": [],
            "_model_module": "@jupyter-widgets/controls",
            "_model_module_version": "1.5.0",
            "_model_name": "HBoxModel",
            "_view_count": null,
            "_view_module": "@jupyter-widgets/controls",
            "_view_module_version": "1.5.0",
            "_view_name": "HBoxView",
            "box_style": "",
            "children": [
              "IPY_MODEL_a88c31d74f5c40a2b24bcff5a35d216c",
              "IPY_MODEL_60c6150177694717a622936b830427b5"
            ],
            "layout": "IPY_MODEL_88cd3db2831e4c13a4a634709700d6b2"
          }
        },
        "5901c2829a554c8ebbd5926610088041": {
          "model_module": "@jupyter-widgets/base",
          "model_name": "LayoutModel",
          "state": {
            "_model_module": "@jupyter-widgets/base",
            "_model_module_version": "1.2.0",
            "_model_name": "LayoutModel",
            "_view_count": null,
            "_view_module": "@jupyter-widgets/base",
            "_view_module_version": "1.2.0",
            "_view_name": "LayoutView",
            "align_content": null,
            "align_items": null,
            "align_self": null,
            "border": null,
            "bottom": null,
            "display": null,
            "flex": null,
            "flex_flow": null,
            "grid_area": null,
            "grid_auto_columns": null,
            "grid_auto_flow": null,
            "grid_auto_rows": null,
            "grid_column": null,
            "grid_gap": null,
            "grid_row": null,
            "grid_template_areas": null,
            "grid_template_columns": null,
            "grid_template_rows": null,
            "height": null,
            "justify_content": null,
            "justify_items": null,
            "left": null,
            "margin": null,
            "max_height": null,
            "max_width": null,
            "min_height": null,
            "min_width": null,
            "object_fit": null,
            "object_position": null,
            "order": null,
            "overflow": null,
            "overflow_x": null,
            "overflow_y": null,
            "padding": null,
            "right": null,
            "top": null,
            "visibility": null,
            "width": null
          }
        },
        "60c6150177694717a622936b830427b5": {
          "model_module": "@jupyter-widgets/controls",
          "model_name": "HTMLModel",
          "state": {
            "_dom_classes": [],
            "_model_module": "@jupyter-widgets/controls",
            "_model_module_version": "1.5.0",
            "_model_name": "HTMLModel",
            "_view_count": null,
            "_view_module": "@jupyter-widgets/controls",
            "_view_module_version": "1.5.0",
            "_view_name": "HTMLView",
            "description": "",
            "description_tooltip": null,
            "layout": "IPY_MODEL_a4f82234388e4701a02a9f68a177193a",
            "placeholder": "​",
            "style": "IPY_MODEL_957362a11d174407979cf17012bf9208",
            "value": " 2640404480/? [00:51&lt;00:00, 32685718.58it/s]"
          }
        },
        "88cd3db2831e4c13a4a634709700d6b2": {
          "model_module": "@jupyter-widgets/base",
          "model_name": "LayoutModel",
          "state": {
            "_model_module": "@jupyter-widgets/base",
            "_model_module_version": "1.2.0",
            "_model_name": "LayoutModel",
            "_view_count": null,
            "_view_module": "@jupyter-widgets/base",
            "_view_module_version": "1.2.0",
            "_view_name": "LayoutView",
            "align_content": null,
            "align_items": null,
            "align_self": null,
            "border": null,
            "bottom": null,
            "display": null,
            "flex": null,
            "flex_flow": null,
            "grid_area": null,
            "grid_auto_columns": null,
            "grid_auto_flow": null,
            "grid_auto_rows": null,
            "grid_column": null,
            "grid_gap": null,
            "grid_row": null,
            "grid_template_areas": null,
            "grid_template_columns": null,
            "grid_template_rows": null,
            "height": null,
            "justify_content": null,
            "justify_items": null,
            "left": null,
            "margin": null,
            "max_height": null,
            "max_width": null,
            "min_height": null,
            "min_width": null,
            "object_fit": null,
            "object_position": null,
            "order": null,
            "overflow": null,
            "overflow_x": null,
            "overflow_y": null,
            "padding": null,
            "right": null,
            "top": null,
            "visibility": null,
            "width": null
          }
        },
        "957362a11d174407979cf17012bf9208": {
          "model_module": "@jupyter-widgets/controls",
          "model_name": "DescriptionStyleModel",
          "state": {
            "_model_module": "@jupyter-widgets/controls",
            "_model_module_version": "1.5.0",
            "_model_name": "DescriptionStyleModel",
            "_view_count": null,
            "_view_module": "@jupyter-widgets/base",
            "_view_module_version": "1.2.0",
            "_view_name": "StyleView",
            "description_width": ""
          }
        },
        "a4f82234388e4701a02a9f68a177193a": {
          "model_module": "@jupyter-widgets/base",
          "model_name": "LayoutModel",
          "state": {
            "_model_module": "@jupyter-widgets/base",
            "_model_module_version": "1.2.0",
            "_model_name": "LayoutModel",
            "_view_count": null,
            "_view_module": "@jupyter-widgets/base",
            "_view_module_version": "1.2.0",
            "_view_name": "LayoutView",
            "align_content": null,
            "align_items": null,
            "align_self": null,
            "border": null,
            "bottom": null,
            "display": null,
            "flex": null,
            "flex_flow": null,
            "grid_area": null,
            "grid_auto_columns": null,
            "grid_auto_flow": null,
            "grid_auto_rows": null,
            "grid_column": null,
            "grid_gap": null,
            "grid_row": null,
            "grid_template_areas": null,
            "grid_template_columns": null,
            "grid_template_rows": null,
            "height": null,
            "justify_content": null,
            "justify_items": null,
            "left": null,
            "margin": null,
            "max_height": null,
            "max_width": null,
            "min_height": null,
            "min_width": null,
            "object_fit": null,
            "object_position": null,
            "order": null,
            "overflow": null,
            "overflow_x": null,
            "overflow_y": null,
            "padding": null,
            "right": null,
            "top": null,
            "visibility": null,
            "width": null
          }
        },
        "a88c31d74f5c40a2b24bcff5a35d216c": {
          "model_module": "@jupyter-widgets/controls",
          "model_name": "FloatProgressModel",
          "state": {
            "_dom_classes": [],
            "_model_module": "@jupyter-widgets/controls",
            "_model_module_version": "1.5.0",
            "_model_name": "FloatProgressModel",
            "_view_count": null,
            "_view_module": "@jupyter-widgets/controls",
            "_view_module_version": "1.5.0",
            "_view_name": "ProgressView",
            "bar_style": "info",
            "description": "",
            "description_tooltip": null,
            "layout": "IPY_MODEL_5901c2829a554c8ebbd5926610088041",
            "max": 1,
            "min": 0,
            "orientation": "horizontal",
            "style": "IPY_MODEL_dba019efadee4fdc8c799f309b9a7e70",
            "value": 1
          }
        },
        "dba019efadee4fdc8c799f309b9a7e70": {
          "model_module": "@jupyter-widgets/controls",
          "model_name": "ProgressStyleModel",
          "state": {
            "_model_module": "@jupyter-widgets/controls",
            "_model_module_version": "1.5.0",
            "_model_name": "ProgressStyleModel",
            "_view_count": null,
            "_view_module": "@jupyter-widgets/base",
            "_view_module_version": "1.2.0",
            "_view_name": "StyleView",
            "bar_color": null,
            "description_width": "initial"
          }
        }
      }
    }
  },
  "nbformat": 4,
  "nbformat_minor": 0
}
